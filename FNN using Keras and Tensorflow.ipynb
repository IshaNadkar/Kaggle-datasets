{
 "cells": [
  {
   "cell_type": "code",
   "execution_count": 1,
   "id": "3aed040c",
   "metadata": {},
   "outputs": [],
   "source": [
    "import math\n",
    "import pandas as pd\n",
    "from keras import models, layers, optimizers, regularizers\n",
    "import numpy as np\n",
    "import random\n",
    "from sklearn import model_selection, preprocessing\n",
    "import tensorflow as tf\n",
    "from tqdm import tqdm\n",
    "import matplotlib.pyplot as plt"
   ]
  },
  {
   "cell_type": "code",
   "execution_count": 4,
   "id": "34279394",
   "metadata": {},
   "outputs": [],
   "source": [
    "file_name = 'SAheart.data'\n",
    "data = pd.read_csv(file_name, sep=',', index_col=0)"
   ]
  },
  {
   "cell_type": "code",
   "execution_count": 5,
   "id": "9e2b7d2a",
   "metadata": {},
   "outputs": [
    {
     "data": {
      "text/html": [
       "<div>\n",
       "<style scoped>\n",
       "    .dataframe tbody tr th:only-of-type {\n",
       "        vertical-align: middle;\n",
       "    }\n",
       "\n",
       "    .dataframe tbody tr th {\n",
       "        vertical-align: top;\n",
       "    }\n",
       "\n",
       "    .dataframe thead th {\n",
       "        text-align: right;\n",
       "    }\n",
       "</style>\n",
       "<table border=\"1\" class=\"dataframe\">\n",
       "  <thead>\n",
       "    <tr style=\"text-align: right;\">\n",
       "      <th></th>\n",
       "      <th>sbp</th>\n",
       "      <th>tobacco</th>\n",
       "      <th>ldl</th>\n",
       "      <th>adiposity</th>\n",
       "      <th>famhist</th>\n",
       "      <th>typea</th>\n",
       "      <th>obesity</th>\n",
       "      <th>alcohol</th>\n",
       "      <th>age</th>\n",
       "      <th>chd</th>\n",
       "    </tr>\n",
       "    <tr>\n",
       "      <th>row.names</th>\n",
       "      <th></th>\n",
       "      <th></th>\n",
       "      <th></th>\n",
       "      <th></th>\n",
       "      <th></th>\n",
       "      <th></th>\n",
       "      <th></th>\n",
       "      <th></th>\n",
       "      <th></th>\n",
       "      <th></th>\n",
       "    </tr>\n",
       "  </thead>\n",
       "  <tbody>\n",
       "    <tr>\n",
       "      <th>1</th>\n",
       "      <td>160</td>\n",
       "      <td>12.00</td>\n",
       "      <td>5.73</td>\n",
       "      <td>23.11</td>\n",
       "      <td>True</td>\n",
       "      <td>49</td>\n",
       "      <td>25.30</td>\n",
       "      <td>97.20</td>\n",
       "      <td>52</td>\n",
       "      <td>1</td>\n",
       "    </tr>\n",
       "    <tr>\n",
       "      <th>2</th>\n",
       "      <td>144</td>\n",
       "      <td>0.01</td>\n",
       "      <td>4.41</td>\n",
       "      <td>28.61</td>\n",
       "      <td>False</td>\n",
       "      <td>55</td>\n",
       "      <td>28.87</td>\n",
       "      <td>2.06</td>\n",
       "      <td>63</td>\n",
       "      <td>1</td>\n",
       "    </tr>\n",
       "    <tr>\n",
       "      <th>3</th>\n",
       "      <td>118</td>\n",
       "      <td>0.08</td>\n",
       "      <td>3.48</td>\n",
       "      <td>32.28</td>\n",
       "      <td>True</td>\n",
       "      <td>52</td>\n",
       "      <td>29.14</td>\n",
       "      <td>3.81</td>\n",
       "      <td>46</td>\n",
       "      <td>0</td>\n",
       "    </tr>\n",
       "    <tr>\n",
       "      <th>4</th>\n",
       "      <td>170</td>\n",
       "      <td>7.50</td>\n",
       "      <td>6.41</td>\n",
       "      <td>38.03</td>\n",
       "      <td>True</td>\n",
       "      <td>51</td>\n",
       "      <td>31.99</td>\n",
       "      <td>24.26</td>\n",
       "      <td>58</td>\n",
       "      <td>1</td>\n",
       "    </tr>\n",
       "    <tr>\n",
       "      <th>5</th>\n",
       "      <td>134</td>\n",
       "      <td>13.60</td>\n",
       "      <td>3.50</td>\n",
       "      <td>27.78</td>\n",
       "      <td>True</td>\n",
       "      <td>60</td>\n",
       "      <td>25.99</td>\n",
       "      <td>57.34</td>\n",
       "      <td>49</td>\n",
       "      <td>1</td>\n",
       "    </tr>\n",
       "  </tbody>\n",
       "</table>\n",
       "</div>"
      ],
      "text/plain": [
       "           sbp  tobacco   ldl  adiposity  famhist  typea  obesity  alcohol  \\\n",
       "row.names                                                                    \n",
       "1          160    12.00  5.73      23.11     True     49    25.30    97.20   \n",
       "2          144     0.01  4.41      28.61    False     55    28.87     2.06   \n",
       "3          118     0.08  3.48      32.28     True     52    29.14     3.81   \n",
       "4          170     7.50  6.41      38.03     True     51    31.99    24.26   \n",
       "5          134    13.60  3.50      27.78     True     60    25.99    57.34   \n",
       "\n",
       "           age  chd  \n",
       "row.names            \n",
       "1           52    1  \n",
       "2           63    1  \n",
       "3           46    0  \n",
       "4           58    1  \n",
       "5           49    1  "
      ]
     },
     "execution_count": 5,
     "metadata": {},
     "output_type": "execute_result"
    }
   ],
   "source": [
    "data['famhist'] = data['famhist'] == 'Present'\n",
    "data.head()"
   ]
  },
  {
   "cell_type": "code",
   "execution_count": 6,
   "id": "cbfd2d21",
   "metadata": {},
   "outputs": [
    {
     "name": "stdout",
     "output_type": "stream",
     "text": [
      "323\n",
      "139\n"
     ]
    }
   ],
   "source": [
    "n_test = int(math.ceil(len(data) * 0.3))\n",
    "random.seed(42)\n",
    "test_ixs = random.sample(list(range(len(data))), n_test)\n",
    "train_ixs = [ix for ix in range(len(data)) if ix not in test_ixs]\n",
    "train = data.iloc[train_ixs, :]\n",
    "test = data.iloc[test_ixs, :]\n",
    "print(len(train))\n",
    "print(len(test))"
   ]
  },
  {
   "cell_type": "code",
   "execution_count": 7,
   "id": "aa1b472e",
   "metadata": {},
   "outputs": [],
   "source": [
    "#features = ['sbp', 'tobacco', 'ldl', 'adiposity', 'famhist', 'typea', 'obesity', 'alcohol', 'age']\n",
    "features = ['adiposity', 'age']\n",
    "response = 'chd'\n",
    "x_train = train[features]\n",
    "y_train = train[response]\n",
    "x_test = test[features]\n",
    "y_test = test[response]"
   ]
  },
  {
   "cell_type": "code",
   "execution_count": 8,
   "id": "ca2228bc",
   "metadata": {},
   "outputs": [],
   "source": [
    "x_train = preprocessing.normalize(x_train)\n",
    "x_test = preprocessing.normalize(x_test)"
   ]
  },
  {
   "cell_type": "code",
   "execution_count": 9,
   "id": "b541fd48",
   "metadata": {},
   "outputs": [],
   "source": [
    "hidden_units = 10     # how many neurons in the hidden layer\n",
    "activation = 'relu'   # activation function for hidden layer\n",
    "l2 = 0.01             # regularization - how much we penalize large parameter values\n",
    "learning_rate = 0.01  # how big our steps are in gradient descent\n",
    "epochs = 5            # how many epochs to train for\n",
    "batch_size = 16       # how many samples to use for each gradient descent update"
   ]
  },
  {
   "cell_type": "code",
   "execution_count": 10,
   "id": "55760162",
   "metadata": {},
   "outputs": [
    {
     "name": "stderr",
     "output_type": "stream",
     "text": [
      "C:\\Python310\\lib\\site-packages\\keras\\optimizers\\optimizer_v2\\adam.py:110: UserWarning: The `lr` argument is deprecated, use `learning_rate` instead.\n",
      "  super(Adam, self).__init__(name, **kwargs)\n"
     ]
    }
   ],
   "source": [
    "# create a sequential model\n",
    "model = models.Sequential()\n",
    "\n",
    "# add the hidden layer\n",
    "model.add(layers.Dense(input_dim=len(features),\n",
    "                       units=hidden_units, \n",
    "                       activation=activation))\n",
    "\n",
    "# add the output layer\n",
    "model.add(layers.Dense(input_dim=hidden_units,\n",
    "                       units=1,\n",
    "                       activation='sigmoid'))\n",
    "\n",
    "# define our loss function and optimizer\n",
    "model.compile(loss='binary_crossentropy',\n",
    "              # Adam is a kind of gradient descent\n",
    "              optimizer=optimizers.Adam(lr=learning_rate),\n",
    "              metrics=['accuracy'])"
   ]
  },
  {
   "cell_type": "code",
   "execution_count": 11,
   "id": "7a5e6602",
   "metadata": {},
   "outputs": [
    {
     "name": "stdout",
     "output_type": "stream",
     "text": [
      "Epoch 1/5\n",
      "21/21 [==============================] - 1s 2ms/step - loss: 0.6441 - accuracy: 0.6254\n",
      "Epoch 2/5\n",
      "21/21 [==============================] - 0s 2ms/step - loss: 0.6285 - accuracy: 0.6718\n",
      "Epoch 3/5\n",
      "21/21 [==============================] - 0s 2ms/step - loss: 0.6265 - accuracy: 0.6718\n",
      "Epoch 4/5\n",
      "21/21 [==============================] - 0s 3ms/step - loss: 0.6200 - accuracy: 0.6718\n",
      "Epoch 5/5\n",
      "21/21 [==============================] - 0s 2ms/step - loss: 0.6268 - accuracy: 0.6718\n",
      "11/11 [==============================] - 0s 2ms/step - loss: 0.6176 - accuracy: 0.6718\n",
      "5/5 [==============================] - 0s 3ms/step - loss: 0.6663 - accuracy: 0.6115\n",
      "Training accuracy: 0.6718266010284424\n",
      "Testing accuracy: 0.6115108132362366\n"
     ]
    },
    {
     "data": {
      "image/png": "[encoded data removed]",
      "text/plain": [
       "<Figure size 432x288 with 1 Axes>"
      ]
     },
     "metadata": {
      "needs_background": "light"
     },
     "output_type": "display_data"
    }
   ],
   "source": [
    "# train the parameters\n",
    "history = model.fit(x_train, y_train, epochs=5, batch_size=batch_size)\n",
    "\n",
    "# evaluate accuracy\n",
    "train_acc = model.evaluate(x_train, y_train, batch_size=32)[1]\n",
    "test_acc = model.evaluate(x_test, y_test, batch_size=32)[1]\n",
    "print('Training accuracy: %s' % train_acc)\n",
    "print('Testing accuracy: %s' % test_acc)\n",
    "\n",
    "losses = history.history['loss']\n",
    "plt.plot(range(len(losses)), losses, 'r')\n",
    "plt.show()\n",
    "\n",
    "### RUN IT AGAIN! ###"
   ]
  },
  {
   "cell_type": "code",
   "execution_count": 12,
   "id": "4d89971f",
   "metadata": {},
   "outputs": [],
   "source": [
    "def train_and_evaluate(model, x_train, y_train, x_test, y_test, n=20):\n",
    "    train_accs = []\n",
    "    test_accs = []\n",
    "    with tqdm(total=n) as progress_bar:\n",
    "        for _ in range(n):\n",
    "            model.fit(\n",
    "                x_train, \n",
    "                y_train, \n",
    "                epochs=epochs, \n",
    "                batch_size=batch_size,\n",
    "                verbose=False)\n",
    "            train_accs.append(model.evaluate(x_train, y_train, batch_size=32, verbose=False)[1])\n",
    "            test_accs.append(model.evaluate(x_test, y_test, batch_size=32, verbose=False)[1])\n",
    "            progress_bar.update()\n",
    "    print('Avgerage Training Accuracy: %s' % np.average(train_accs))\n",
    "    print('Avgerage Testing Accuracy: %s' % np.average(test_accs))\n",
    "    return train_accs, test_accs\n"
   ]
  },
  {
   "cell_type": "code",
   "execution_count": 13,
   "id": "4561afaa",
   "metadata": {},
   "outputs": [
    {
     "name": "stderr",
     "output_type": "stream",
     "text": [
      "100%|██████████████████████████████████████████████████████████████████████████████████| 20/20 [00:09<00:00,  2.10it/s]"
     ]
    },
    {
     "name": "stdout",
     "output_type": "stream",
     "text": [
      "Avgerage Training Accuracy: 0.6718266010284424\n",
      "Avgerage Testing Accuracy: 0.6115108132362366\n"
     ]
    },
    {
     "name": "stderr",
     "output_type": "stream",
     "text": [
      "\n"
     ]
    }
   ],
   "source": [
    "_, test_accs = train_and_evaluate(model, x_train, y_train, x_test, y_test)"
   ]
  },
  {
   "cell_type": "code",
   "execution_count": 14,
   "id": "c28c7cc4",
   "metadata": {},
   "outputs": [
    {
     "data": {
      "image/png": "[encoded data removed]",
      "text/plain": [
       "<Figure size 432x288 with 1 Axes>"
      ]
     },
     "metadata": {
      "needs_background": "light"
     },
     "output_type": "display_data"
    }
   ],
   "source": [
    "plt.hist(test_accs)\n",
    "plt.show()"
   ]
  },
  {
   "cell_type": "code",
   "execution_count": 15,
   "id": "b3c48256",
   "metadata": {},
   "outputs": [
    {
     "name": "stdout",
     "output_type": "stream",
     "text": [
      "Min: 0.6115108132362366\n",
      "Max: 0.6115108132362366\n"
     ]
    }
   ],
   "source": [
    "print('Min: %s' % np.min(test_accs))\n",
    "print('Max: %s' % np.max(test_accs))"
   ]
  },
  {
   "cell_type": "code",
   "execution_count": null,
   "id": "d39bc964",
   "metadata": {},
   "outputs": [],
   "source": []
  }
 ],
 "metadata": {
  "kernelspec": {
   "display_name": "Python 3 (ipykernel)",
   "language": "python",
   "name": "python3"
  },
  "language_info": {
   "codemirror_mode": {
    "name": "ipython",
    "version": 3
   },
   "file_extension": ".py",
   "mimetype": "text/x-python",
   "name": "python",
   "nbconvert_exporter": "python",
   "pygments_lexer": "ipython3",
   "version": "3.10.0"
  }
 },
 "nbformat": 4,
 "nbformat_minor": 5
}
